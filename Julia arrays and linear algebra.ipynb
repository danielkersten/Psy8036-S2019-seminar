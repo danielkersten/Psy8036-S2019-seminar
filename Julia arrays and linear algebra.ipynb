{
 "cells": [
  {
   "cell_type": "markdown",
   "metadata": {
    "nbpresent": {
     "id": "e5d0087a-241f-4e85-82b8-4563a1e33c2e"
    }
   },
   "source": [
    "# Quick start to Julia\n",
    "\n",
    "Dan Kersten's notes on getting started with vector and matrix operations, slicing, flattening, reshaping, ranges, and list comprehensions."
   ]
  },
  {
   "cell_type": "markdown",
   "metadata": {},
   "source": [
    "This notebook aims to get you started with Julia assuming that you've had some experience with scientific programming, e.g. Matlab, Python/Numpy/, Mathematica or R. \n",
    "\n",
    "Here are links to some \"cheat-sheets\" that might be useful.\n",
    "\n",
    "https://juliadocs.github.io/Julia-Cheat-Sheet/\n",
    "\n",
    "https://cheatsheets.quantecon.org/\n"
   ]
  },
  {
   "cell_type": "markdown",
   "metadata": {
    "nbpresent": {
     "id": "c83d972e-abb8-46a5-a28c-a4986997f7c8"
    }
   },
   "source": [
    "### Numerical arrays and vector, matrix operations"
   ]
  },
  {
   "cell_type": "markdown",
   "metadata": {
    "nbpresent": {
     "id": "b6133afb-ccd5-4b70-8c47-3b7fdae3e8de"
    }
   },
   "source": [
    "### Lists\n",
    "Lists can be used to store\n",
    "- mixed data (for example, strings, and numbers)\n",
    "- multiple lists (for example, a list of vectors)\n",
    "- but our main use will be to store numbers, i.e. vectors\n",
    "\n",
    "Julia indexing starts at 1 (like Matlab and Mathematica, but not like Python or C!\n",
    "\n",
    "See:\n",
    "\n",
    "https://docs.julialang.org/en/v0.6.2/stdlib/arrays/#Base.indices-Tuple{AbstractArray,Any}\n",
    "\n",
    "https://en.wikibooks.org/wiki/Introducing_Julia/Arrays_and_tuples#Matrix_operations:_using_arrays_as_matrices\n",
    "\n",
    "and \n",
    "\n",
    "https://docs.julialang.org/en/v1.1/stdlib/LinearAlgebra/#Linear-Algebra-1\n"
   ]
  },
  {
   "cell_type": "markdown",
   "metadata": {
    "nbpresent": {
     "id": "7d8a17c0-a15c-4441-ad4d-1a2181dd9916"
    }
   },
   "source": [
    "#### Vectors"
   ]
  },
  {
   "cell_type": "code",
   "execution_count": 3,
   "metadata": {
    "nbpresent": {
     "id": "845f8af3-13fc-4ec1-ab09-02b7855b435c"
    }
   },
   "outputs": [
    {
     "data": {
      "text/plain": [
       "1×3 Array{Float64,2}:\n",
       " 2.0  3.0  -1.0"
      ]
     },
     "execution_count": 3,
     "metadata": {},
     "output_type": "execute_result"
    }
   ],
   "source": [
    "cv = [3; 4; 5] # column vector\n",
    "rv = [2 3. -1] # row vector. \n",
    "#Note only the output from last line is printed\n",
    "#rv is a 1x3 array, while cv is a 3-element array."
   ]
  },
  {
   "cell_type": "code",
   "execution_count": 4,
   "metadata": {
    "nbpresent": {
     "id": "8830a021-740b-4692-8fe1-363f476fb437"
    }
   },
   "outputs": [
    {
     "name": "stdout",
     "output_type": "stream",
     "text": [
      "[3, 4, 5][2.0 3.0 -1.0]\n"
     ]
    },
    {
     "data": {
      "text/plain": [
       "3-element Array{Int64,1}:\n",
       " 3\n",
       " 4\n",
       " 5"
      ]
     },
     "execution_count": 4,
     "metadata": {},
     "output_type": "execute_result"
    }
   ],
   "source": [
    "println(cv,rv)\n",
    "cv"
   ]
  },
  {
   "cell_type": "markdown",
   "metadata": {
    "nbpresent": {
     "id": "c4805651-73d0-42e0-b48b-0ceb82bb1a66"
    }
   },
   "source": [
    "#### Matrix construction"
   ]
  },
  {
   "cell_type": "code",
   "execution_count": 5,
   "metadata": {
    "nbpresent": {
     "id": "b81c879e-78e7-4291-a555-5fc33f44ceee"
    }
   },
   "outputs": [
    {
     "data": {
      "text/plain": [
       "4×3 Array{Float64,2}:\n",
       " 1.0   3.0   1.0\n",
       " 1.0   1.0  -1.0\n",
       " 3.0  11.0   6.0\n",
       " 2.0  -4.0   5.0"
      ]
     },
     "execution_count": 5,
     "metadata": {},
     "output_type": "execute_result"
    }
   ],
   "source": [
    "A =[1 3 1; 1 1 -1; 3 11 6; 2. -4. 5]"
   ]
  },
  {
   "cell_type": "markdown",
   "metadata": {
    "nbpresent": {
     "id": "0a44cabc-d4d7-489a-9a67-1ef72c2d901c"
    }
   },
   "source": [
    "You can also construct a matrix as you would see it math notation"
   ]
  },
  {
   "cell_type": "code",
   "execution_count": 6,
   "metadata": {
    "collapsed": true,
    "nbpresent": {
     "id": "078b0a68-d450-4005-98c9-5f7a0f460006"
    }
   },
   "outputs": [],
   "source": [
    "A1 = [1 3  1\n",
    "     1 1 -1\n",
    "     3 11 6\n",
    "    2. -4. 5]; \n",
    "\n",
    "# semi-colon prevents output from being printed"
   ]
  },
  {
   "cell_type": "markdown",
   "metadata": {
    "nbpresent": {
     "id": "b940060a-4d31-441e-a871-8a60282b983e"
    }
   },
   "source": [
    "#### Matrix vector operations"
   ]
  },
  {
   "cell_type": "code",
   "execution_count": 7,
   "metadata": {
    "nbpresent": {
     "id": "65ba3d76-66c7-4112-b2cb-c7b285f34d00"
    }
   },
   "outputs": [
    {
     "data": {
      "text/plain": [
       "4-element Array{Float64,1}:\n",
       " 20.0\n",
       "  2.0\n",
       " 83.0\n",
       " 15.0"
      ]
     },
     "execution_count": 7,
     "metadata": {},
     "output_type": "execute_result"
    }
   ],
   "source": [
    "A*cv # matrix multiplication"
   ]
  },
  {
   "cell_type": "code",
   "execution_count": 8,
   "metadata": {
    "nbpresent": {
     "id": "b8527799-e2b6-4128-a679-537e2a0948d6"
    }
   },
   "outputs": [
    {
     "data": {
      "text/plain": [
       "4×1 Array{Float64,2}:\n",
       "  10.0\n",
       "   6.0\n",
       "  33.0\n",
       " -13.0"
      ]
     },
     "execution_count": 8,
     "metadata": {},
     "output_type": "execute_result"
    }
   ],
   "source": [
    "A*rv' # A*rv won't work because rv is a row vector, but will if we transpose rv. \n",
    "#rv' is the transpose of rv"
   ]
  },
  {
   "cell_type": "code",
   "execution_count": 9,
   "metadata": {
    "nbpresent": {
     "id": "d13dac6a-29a0-42ca-bd15-2ef5aef8671b"
    }
   },
   "outputs": [
    {
     "data": {
      "text/plain": [
       "1×3 Array{Float64,2}:\n",
       " 6.0  12.0  -5.0"
      ]
     },
     "execution_count": 9,
     "metadata": {},
     "output_type": "execute_result"
    }
   ],
   "source": [
    "A.*A # element by element multiplication\n",
    "cv'.*rv"
   ]
  },
  {
   "cell_type": "code",
   "execution_count": 10,
   "metadata": {
    "nbpresent": {
     "id": "6f32a92d-88c5-4b0d-9242-dc1be2b8b7bd"
    }
   },
   "outputs": [
    {
     "data": {
      "text/plain": [
       "3×3 Array{Float64,2}:\n",
       "  6.0   9.0  -3.0\n",
       "  8.0  12.0  -4.0\n",
       " 10.0  15.0  -5.0"
      ]
     },
     "execution_count": 10,
     "metadata": {},
     "output_type": "execute_result"
    }
   ],
   "source": [
    "cv*rv # outer product"
   ]
  },
  {
   "cell_type": "code",
   "execution_count": 11,
   "metadata": {
    "nbpresent": {
     "id": "f2e3d8a0-df40-4ced-a68b-84c1213eab1a"
    }
   },
   "outputs": [
    {
     "data": {
      "text/plain": [
       "3×3 Array{Float64,2}:\n",
       " 2.97275   5.44523   3.90384\n",
       " 1.43719   0.701643  2.69526\n",
       " 4.24674  11.0116    5.27502"
      ]
     },
     "execution_count": 11,
     "metadata": {},
     "output_type": "execute_result"
    }
   ],
   "source": [
    "B = rand(3,4) # using rand() to make a random 3x3 matrix\n",
    "B*A # multiple a 3x4 matrix with a 4x3"
   ]
  },
  {
   "cell_type": "markdown",
   "metadata": {
    "nbpresent": {
     "id": "fcbbd348-4107-4535-a1e7-6a617e2813b9"
    }
   },
   "source": [
    "#### Slicing, accessing elements"
   ]
  },
  {
   "cell_type": "code",
   "execution_count": 14,
   "metadata": {
    "nbpresent": {
     "id": "303c3bf2-fd40-409e-b69b-4b7d7da1e99c"
    }
   },
   "outputs": [
    {
     "data": {
      "text/plain": [
       "2.0"
      ]
     },
     "execution_count": 14,
     "metadata": {},
     "output_type": "execute_result"
    }
   ],
   "source": [
    "rv[1]"
   ]
  },
  {
   "cell_type": "code",
   "execution_count": 15,
   "metadata": {
    "nbpresent": {
     "id": "01aa7476-fe22-4b19-954c-f0bb326a5226"
    }
   },
   "outputs": [
    {
     "data": {
      "text/plain": [
       "3"
      ]
     },
     "execution_count": 15,
     "metadata": {},
     "output_type": "execute_result"
    }
   ],
   "source": [
    "cv[1]"
   ]
  },
  {
   "cell_type": "code",
   "execution_count": 16,
   "metadata": {
    "nbpresent": {
     "id": "9a48502f-0549-4562-9914-2f628ad2c004"
    }
   },
   "outputs": [
    {
     "data": {
      "text/plain": [
       "2×3 Array{Float64,2}:\n",
       " 1.0   3.0  1.0\n",
       " 2.0  -4.0  5.0"
      ]
     },
     "execution_count": 16,
     "metadata": {},
     "output_type": "execute_result"
    }
   ],
   "source": [
    "A[:,2:3] # second two columns\n",
    "A[3:4,:] # third and fourth rows\n",
    "A[[1,4],:]# first and fourth rows"
   ]
  },
  {
   "cell_type": "markdown",
   "metadata": {
    "nbpresent": {
     "id": "6b19f1a4-f946-4f41-9906-7a690dfbdea4"
    }
   },
   "source": [
    "A list can contain elements of any type. The elements can be vectors. Note that list_of_vectors is not a 3x3 Array. It is not a matrix.\n",
    "\n",
    "Below, after loading LinearAlgebra functions, you can query list_of_vectors for its size, number of dimensions, and length."
   ]
  },
  {
   "cell_type": "code",
   "execution_count": 17,
   "metadata": {
    "nbpresent": {
     "id": "f40c324d-b61d-49c3-a3a3-6da505cb118c"
    }
   },
   "outputs": [
    {
     "data": {
      "text/plain": [
       "3-element Array{Array{Int64,1},1}:\n",
       " [3, 4, 5]    \n",
       " [-1, -2, -3] \n",
       " [0, -10, -20]"
      ]
     },
     "execution_count": 17,
     "metadata": {},
     "output_type": "execute_result"
    }
   ],
   "source": [
    "list_of_vectors = [[3;4;5], [-1;-2;-3], [0, -10, -20]]"
   ]
  },
  {
   "cell_type": "markdown",
   "metadata": {
    "nbpresent": {
     "id": "466f60c4-4397-44e4-94dd-cf466da953dd"
    }
   },
   "source": [
    "#### Flattening"
   ]
  },
  {
   "cell_type": "code",
   "execution_count": 18,
   "metadata": {
    "nbpresent": {
     "id": "6fe1f36a-a02f-4f4d-a7aa-b31989e713f2"
    }
   },
   "outputs": [
    {
     "data": {
      "text/plain": [
       "12-element Array{Float64,1}:\n",
       "  1.0\n",
       "  1.0\n",
       "  3.0\n",
       "  2.0\n",
       "  3.0\n",
       "  1.0\n",
       " 11.0\n",
       " -4.0\n",
       "  1.0\n",
       " -1.0\n",
       "  6.0\n",
       "  5.0"
      ]
     },
     "execution_count": 18,
     "metadata": {},
     "output_type": "execute_result"
    }
   ],
   "source": [
    "temp0=A[:] # or A[1:end] \n",
    "# or try: vec(A)\n",
    "# or collect(Iterators.flatten(A))\n",
    "# or cat(A...,dims=1)\n",
    "# test equivalence of type representations, e.g with ==: cat(A...,dims=1)==vec(A)"
   ]
  },
  {
   "cell_type": "code",
   "execution_count": 19,
   "metadata": {
    "nbpresent": {
     "id": "e8dad3a7-cce6-4a6e-bea8-f0fc26657c52"
    }
   },
   "outputs": [
    {
     "data": {
      "text/plain": [
       "4×3 Array{Float64,2}:\n",
       " 1.0   3.0   1.0\n",
       " 1.0   1.0  -1.0\n",
       " 3.0  11.0   6.0\n",
       " 2.0  -4.0   5.0"
      ]
     },
     "execution_count": 19,
     "metadata": {},
     "output_type": "execute_result"
    }
   ],
   "source": [
    "reshape(temp0, 4, 3) # use reshape to undo the flattening"
   ]
  },
  {
   "cell_type": "markdown",
   "metadata": {
    "nbpresent": {
     "id": "cf635dcf-30d4-4e0f-9edd-749ba72aa286"
    }
   },
   "source": [
    "#### Ranges"
   ]
  },
  {
   "cell_type": "code",
   "execution_count": 20,
   "metadata": {
    "nbpresent": {
     "id": "a9ef1e64-4849-47ba-83e9-2c3be720f388"
    }
   },
   "outputs": [
    {
     "data": {
      "text/plain": [
       "1:5"
      ]
     },
     "execution_count": 20,
     "metadata": {},
     "output_type": "execute_result"
    }
   ],
   "source": [
    "r = 1:5 # defines a compactly stored range\n",
    "# try 1:.3333:9"
   ]
  },
  {
   "cell_type": "code",
   "execution_count": 21,
   "metadata": {
    "nbpresent": {
     "id": "c52cf71b-247c-4533-9240-e48c4d3df4ae"
    }
   },
   "outputs": [
    {
     "data": {
      "text/plain": [
       "5-element Array{Int64,1}:\n",
       " 1\n",
       " 2\n",
       " 3\n",
       " 4\n",
       " 5"
      ]
     },
     "execution_count": 21,
     "metadata": {},
     "output_type": "execute_result"
    }
   ],
   "source": [
    "collect(r)# shows what is inside the range"
   ]
  },
  {
   "cell_type": "code",
   "execution_count": 22,
   "metadata": {
    "nbpresent": {
     "id": "58373aa7-4cdb-44b0-ad0d-f47b056fb96a"
    }
   },
   "outputs": [
    {
     "data": {
      "text/plain": [
       "13-element Array{Float64,1}:\n",
       " 1.0 \n",
       " 1.25\n",
       " 1.5 \n",
       " 1.75\n",
       " 2.0 \n",
       " 2.25\n",
       " 2.5 \n",
       " 2.75\n",
       " 3.0 \n",
       " 3.25\n",
       " 3.5 \n",
       " 3.75\n",
       " 4.0 "
      ]
     },
     "execution_count": 22,
     "metadata": {},
     "output_type": "execute_result"
    }
   ],
   "source": [
    "collect(1:.25:4) # Make a list of numbers from 1 to 4 in steps of .25"
   ]
  },
  {
   "cell_type": "markdown",
   "metadata": {
    "nbpresent": {
     "id": "647f89ad-f068-421b-8ba7-ef6e553ec0e6"
    }
   },
   "source": [
    "Using a range and \"list comprehension\" to construct a vector"
   ]
  },
  {
   "cell_type": "code",
   "execution_count": 23,
   "metadata": {
    "nbpresent": {
     "id": "0958de4f-517f-42b2-b782-a65aaf074029"
    }
   },
   "outputs": [
    {
     "data": {
      "text/plain": [
       "4-element Array{Float64,1}:\n",
       "  22.0\n",
       "  -4.0\n",
       " 101.0\n",
       "  31.0"
      ]
     },
     "execution_count": 23,
     "metadata": {},
     "output_type": "execute_result"
    }
   ],
   "source": [
    "cv2=[i^2 for i in 1:3]\n",
    "A*cv2"
   ]
  },
  {
   "cell_type": "code",
   "execution_count": 24,
   "metadata": {
    "nbpresent": {
     "id": "3610e49c-e26c-45cb-a556-251d9cb7eeab"
    }
   },
   "outputs": [
    {
     "data": {
      "text/plain": [
       "4×3 Array{Int64,2}:\n",
       " 2  3  4\n",
       " 3  4  5\n",
       " 4  5  6\n",
       " 5  6  7"
      ]
     },
     "execution_count": 24,
     "metadata": {},
     "output_type": "execute_result"
    }
   ],
   "source": [
    "A3=[i+j for i in 1:4, j in 1:3] # define a 4x3 matrix using list comprehension"
   ]
  },
  {
   "cell_type": "code",
   "execution_count": 26,
   "metadata": {
    "nbpresent": {
     "id": "0c0f0b6d-b84e-4573-a61e-25e8e8d30c93"
    }
   },
   "outputs": [
    {
     "name": "stdout",
     "output_type": "stream",
     "text": [
      "(4, 3) 2 12\n"
     ]
    }
   ],
   "source": [
    "size(A)# returns number of rows and columns as a tuple\n",
    "ndims(A)# returns the number of dimensions\n",
    "length(A)# returns the total number of elements\n",
    "\n",
    "println(size(A),\" \",ndims(A),\" \",length(A))"
   ]
  },
  {
   "cell_type": "markdown",
   "metadata": {
    "nbpresent": {
     "id": "d45abc00-cad0-42f5-aff5-5e90a7fe3579"
    }
   },
   "source": [
    "### Load the *LinearAlgebra* package for more linear algebra operations"
   ]
  },
  {
   "cell_type": "code",
   "execution_count": null,
   "metadata": {
    "collapsed": true,
    "nbpresent": {
     "id": "2300bacd-fa39-4a85-94de-d18c70717339"
    }
   },
   "outputs": [],
   "source": [
    "using LinearAlgebra"
   ]
  },
  {
   "cell_type": "code",
   "execution_count": 27,
   "metadata": {},
   "outputs": [
    {
     "ename": "UndefVarError",
     "evalue": "UndefVarError: dot not defined",
     "output_type": "error",
     "traceback": [
      "UndefVarError: dot not defined",
      "",
      "Stacktrace:",
      " [1] top-level scope at In[27]:1"
     ]
    }
   ],
   "source": [
    "#Loading the LinearAlgebra package provides the dot product function\n",
    "\n",
    "dot(rv,rv) # dot product\n",
    "dot(cv,cv)\n",
    "println(rv*cv,\" \",dot(rv,cv)) # compare outputs"
   ]
  },
  {
   "cell_type": "code",
   "execution_count": null,
   "metadata": {
    "collapsed": true,
    "nbpresent": {
     "id": "a7d9382e-9908-4079-b7a7-c821cda1f86d"
    }
   },
   "outputs": [],
   "source": [
    "S = rand(3,3)\n",
    "Ss = S + S'; # so that Ss is symmetric. Now try some standard operations. \n",
    "#Compare with S instead of Ss"
   ]
  },
  {
   "cell_type": "code",
   "execution_count": null,
   "metadata": {
    "nbpresent": {
     "id": "2f8de07b-a959-4a21-9699-9bfa24fd8778"
    }
   },
   "outputs": [],
   "source": [
    "det(Ss)# inverse should be >0 for inverse to exist\n",
    "inv(Ss) # inverse\n",
    "eigvals(Ss) #eigenvalues\n",
    "eigvecs(Ss) #eigenvectors\n",
    "rank(Ss) # rank should be 3"
   ]
  },
  {
   "cell_type": "code",
   "execution_count": null,
   "metadata": {
    "nbpresent": {
     "id": "35d8ece6-a376-4768-8abc-e4d594b52123"
    }
   },
   "outputs": [],
   "source": [
    "eigvecs(Ss)"
   ]
  }
 ],
 "metadata": {
  "kernelspec": {
   "display_name": "Julia 1.0.1",
   "language": "julia",
   "name": "julia-1.0"
  },
  "language_info": {
   "file_extension": ".jl",
   "mimetype": "application/julia",
   "name": "julia",
   "version": "1.0.1"
  },
  "nbpresent": {
   "slides": {
    "026a91a1-43c3-458b-9443-a22e8adaa85c": {
     "id": "026a91a1-43c3-458b-9443-a22e8adaa85c",
     "prev": "5949af51-c93f-48ce-957e-dc3c168c8948",
     "regions": {
      "cb00a950-2282-4017-a95c-808815874079": {
       "attrs": {
        "height": 0.8,
        "width": 0.8,
        "x": 0.1,
        "y": 0.1
       },
       "content": {
        "cell": "8830a021-740b-4692-8fe1-363f476fb437",
        "part": "whole"
       },
       "id": "cb00a950-2282-4017-a95c-808815874079"
      }
     }
    },
    "037424b1-d6ac-467a-b438-f4f5ffe2879b": {
     "id": "037424b1-d6ac-467a-b438-f4f5ffe2879b",
     "prev": "fb165fd1-c055-477d-aea3-a3dd022cb723",
     "regions": {
      "64780958-819e-43b8-9f2b-92618afd06c3": {
       "attrs": {
        "height": 0.8,
        "width": 0.8,
        "x": 0.1,
        "y": 0.1
       },
       "content": {
        "cell": "f3128c0f-4fe6-4f74-af55-22c92a8c07d3",
        "part": "whole"
       },
       "id": "64780958-819e-43b8-9f2b-92618afd06c3"
      }
     }
    },
    "100876a9-3a6b-45e7-af40-c60618e7e18d": {
     "id": "100876a9-3a6b-45e7-af40-c60618e7e18d",
     "prev": "026a91a1-43c3-458b-9443-a22e8adaa85c",
     "regions": {
      "d311b31f-340d-4c65-b12e-80439152784b": {
       "attrs": {
        "height": 0.8,
        "width": 0.8,
        "x": 0.1,
        "y": 0.1
       },
       "content": {
        "cell": "c4805651-73d0-42e0-b48b-0ceb82bb1a66",
        "part": "whole"
       },
       "id": "d311b31f-340d-4c65-b12e-80439152784b"
      }
     }
    },
    "1036756f-1a50-4e03-9b9a-42487956d8da": {
     "id": "1036756f-1a50-4e03-9b9a-42487956d8da",
     "prev": "ccd68f5e-3f49-4fcb-8aa1-4566b8310ccb",
     "regions": {
      "b35d8595-bcf4-4721-a7d8-cb33ee010c4e": {
       "attrs": {
        "height": 0.8,
        "width": 0.8,
        "x": 0.1,
        "y": 0.1
       },
       "content": {
        "cell": "cf635dcf-30d4-4e0f-9edd-749ba72aa286",
        "part": "whole"
       },
       "id": "b35d8595-bcf4-4721-a7d8-cb33ee010c4e"
      }
     }
    },
    "1e3a1e35-23c1-44d7-a7eb-55ac83de768f": {
     "id": "1e3a1e35-23c1-44d7-a7eb-55ac83de768f",
     "prev": "2ec53090-a1a2-4d3a-9bcb-04c883568b46",
     "regions": {
      "a5c18433-4a41-495d-a42a-7310d0056ef2": {
       "attrs": {
        "height": 0.8,
        "width": 0.8,
        "x": 0.1,
        "y": 0.1
       },
       "content": {
        "cell": "a7d9382e-9908-4079-b7a7-c821cda1f86d",
        "part": "whole"
       },
       "id": "a5c18433-4a41-495d-a42a-7310d0056ef2"
      }
     }
    },
    "2687682a-5bda-4d04-99f5-8787b94904c1": {
     "id": "2687682a-5bda-4d04-99f5-8787b94904c1",
     "prev": "fa1428b7-f4ac-4595-a8f7-500b9a3c3384",
     "regions": {
      "b8e274d1-6d0a-410a-b5dc-c855a3564c05": {
       "attrs": {
        "height": 0.8,
        "width": 0.8,
        "x": 0.1,
        "y": 0.1
       },
       "content": {
        "cell": "647f89ad-f068-421b-8ba7-ef6e553ec0e6",
        "part": "whole"
       },
       "id": "b8e274d1-6d0a-410a-b5dc-c855a3564c05"
      }
     }
    },
    "2a6612c1-8bef-4fa9-a547-6b31a6e2b20f": {
     "id": "2a6612c1-8bef-4fa9-a547-6b31a6e2b20f",
     "prev": "852a6247-723a-427c-ad87-95137dea7c40",
     "regions": {
      "89d3325f-636d-4641-b133-b4940d9f89c4": {
       "attrs": {
        "height": 0.8,
        "width": 0.8,
        "x": 0.1,
        "y": 0.1
       },
       "content": {
        "cell": "d45abc00-cad0-42f5-aff5-5e90a7fe3579",
        "part": "whole"
       },
       "id": "89d3325f-636d-4641-b133-b4940d9f89c4"
      }
     }
    },
    "2ec53090-a1a2-4d3a-9bcb-04c883568b46": {
     "id": "2ec53090-a1a2-4d3a-9bcb-04c883568b46",
     "prev": "7db46871-0a09-4c64-af31-74fdbbe6ee17",
     "regions": {
      "35c5ab74-874d-4402-a03f-6c300e0edb02": {
       "attrs": {
        "height": 0.8,
        "width": 0.8,
        "x": 0.1,
        "y": 0.1
       },
       "content": {
        "cell": "0c0f0b6d-b84e-4573-a61e-25e8e8d30c93",
        "part": "whole"
       },
       "id": "35c5ab74-874d-4402-a03f-6c300e0edb02"
      }
     }
    },
    "30ce8fcf-7fc7-41e2-813c-6b66472d415f": {
     "id": "30ce8fcf-7fc7-41e2-813c-6b66472d415f",
     "prev": "9306254f-461b-4180-ab88-bb660c397ffe",
     "regions": {
      "b754740a-f129-4878-b29a-fe7323135519": {
       "attrs": {
        "height": 0.8,
        "width": 0.8,
        "x": 0.1,
        "y": 0.1
       },
       "content": {
        "cell": "466f60c4-4397-44e4-94dd-cf466da953dd",
        "part": "whole"
       },
       "id": "b754740a-f129-4878-b29a-fe7323135519"
      }
     }
    },
    "33e3e261-845b-4ecf-8d52-514b2f5f43bf": {
     "id": "33e3e261-845b-4ecf-8d52-514b2f5f43bf",
     "prev": "30ce8fcf-7fc7-41e2-813c-6b66472d415f",
     "regions": {
      "64dc85b2-8c57-43db-9e56-0b168e4d8b90": {
       "attrs": {
        "height": 0.8,
        "width": 0.8,
        "x": 0.1,
        "y": 0.1
       },
       "content": {
        "cell": "6fe1f36a-a02f-4f4d-a7aa-b31989e713f2",
        "part": "whole"
       },
       "id": "64dc85b2-8c57-43db-9e56-0b168e4d8b90"
      }
     }
    },
    "34041e7d-d25e-4b65-97a4-6800e7b6d226": {
     "id": "34041e7d-d25e-4b65-97a4-6800e7b6d226",
     "prev": "928a48f4-3b84-48c5-9939-f4d526953e42",
     "regions": {
      "02ed2b9a-35f9-436c-b472-76eb83f4acca": {
       "attrs": {
        "height": 0.8,
        "width": 0.8,
        "x": 0.1,
        "y": 0.1
       },
       "content": {
        "cell": "6f32a92d-88c5-4b0d-9242-dc1be2b8b7bd",
        "part": "whole"
       },
       "id": "02ed2b9a-35f9-436c-b472-76eb83f4acca"
      }
     }
    },
    "3c8fcb04-5f32-4da2-84ec-ed6b4252afc0": {
     "id": "3c8fcb04-5f32-4da2-84ec-ed6b4252afc0",
     "prev": "2687682a-5bda-4d04-99f5-8787b94904c1",
     "regions": {
      "6e66dbaa-18b5-49fc-a91d-3d48334f34f1": {
       "attrs": {
        "height": 0.8,
        "width": 0.8,
        "x": 0.1,
        "y": 0.1
       },
       "content": {
        "cell": "0958de4f-517f-42b2-b782-a65aaf074029",
        "part": "whole"
       },
       "id": "6e66dbaa-18b5-49fc-a91d-3d48334f34f1"
      }
     }
    },
    "533faa9a-266e-4543-a3b4-3c59b77c976a": {
     "id": "533faa9a-266e-4543-a3b4-3c59b77c976a",
     "prev": "b9e9cdfa-f296-4143-9e92-5b36cfbdebad",
     "regions": {
      "e0f9b2cc-f5e8-41d9-9be4-4c35f92c8d69": {
       "attrs": {
        "height": 0.8,
        "width": 0.8,
        "x": 0.1,
        "y": 0.1
       },
       "content": {
        "cell": "b6133afb-ccd5-4b70-8c47-3b7fdae3e8de",
        "part": "whole"
       },
       "id": "e0f9b2cc-f5e8-41d9-9be4-4c35f92c8d69"
      }
     }
    },
    "53c202a5-3edc-4cb3-aaa7-079fd0da0fbf": {
     "id": "53c202a5-3edc-4cb3-aaa7-079fd0da0fbf",
     "prev": "c1d59a5c-2cef-4728-b096-73c8c50b5ec4",
     "regions": {
      "0e5d95e5-0b6c-4e38-98dd-069e78128fa2": {
       "attrs": {
        "height": 0.8,
        "width": 0.8,
        "x": 0.1,
        "y": 0.1
       },
       "content": {
        "cell": "0a44cabc-d4d7-489a-9a67-1ef72c2d901c",
        "part": "whole"
       },
       "id": "0e5d95e5-0b6c-4e38-98dd-069e78128fa2"
      }
     }
    },
    "5949af51-c93f-48ce-957e-dc3c168c8948": {
     "id": "5949af51-c93f-48ce-957e-dc3c168c8948",
     "prev": "5a77f43e-14b9-4a6b-a6b7-8e3adcef9ca5",
     "regions": {
      "6ce240e4-96a4-485f-a76b-c8f1ef3e4e45": {
       "attrs": {
        "height": 0.8,
        "width": 0.8,
        "x": 0.1,
        "y": 0.1
       },
       "content": {
        "cell": "845f8af3-13fc-4ec1-ab09-02b7855b435c",
        "part": "whole"
       },
       "id": "6ce240e4-96a4-485f-a76b-c8f1ef3e4e45"
      }
     }
    },
    "5a77f43e-14b9-4a6b-a6b7-8e3adcef9ca5": {
     "id": "5a77f43e-14b9-4a6b-a6b7-8e3adcef9ca5",
     "prev": "533faa9a-266e-4543-a3b4-3c59b77c976a",
     "regions": {
      "51247c8f-ccd3-4674-ab6d-36edff58f966": {
       "attrs": {
        "height": 0.8,
        "width": 0.8,
        "x": 0.1,
        "y": 0.1
       },
       "content": {
        "cell": "7d8a17c0-a15c-4441-ad4d-1a2181dd9916",
        "part": "whole"
       },
       "id": "51247c8f-ccd3-4674-ab6d-36edff58f966"
      }
     }
    },
    "61b59a12-2a0b-4e97-a619-c088a3e3ec88": {
     "id": "61b59a12-2a0b-4e97-a619-c088a3e3ec88",
     "prev": "33e3e261-845b-4ecf-8d52-514b2f5f43bf",
     "regions": {
      "f4ed5426-c1b9-46cc-a2f4-d5499c231f35": {
       "attrs": {
        "height": 0.8,
        "width": 0.8,
        "x": 0.1,
        "y": 0.1
       },
       "content": {
        "cell": "25b368f7-4ab9-48a2-b308-f6bb570599be",
        "part": "whole"
       },
       "id": "f4ed5426-c1b9-46cc-a2f4-d5499c231f35"
      }
     }
    },
    "7db46871-0a09-4c64-af31-74fdbbe6ee17": {
     "id": "7db46871-0a09-4c64-af31-74fdbbe6ee17",
     "prev": "2a6612c1-8bef-4fa9-a547-6b31a6e2b20f",
     "regions": {
      "c24844b1-529b-4630-a856-98e1afc0103e": {
       "attrs": {
        "height": 0.8,
        "width": 0.8,
        "x": 0.1,
        "y": 0.1
       },
       "content": {
        "cell": "2300bacd-fa39-4a85-94de-d18c70717339",
        "part": "whole"
       },
       "id": "c24844b1-529b-4630-a856-98e1afc0103e"
      }
     }
    },
    "852a6247-723a-427c-ad87-95137dea7c40": {
     "id": "852a6247-723a-427c-ad87-95137dea7c40",
     "prev": "3c8fcb04-5f32-4da2-84ec-ed6b4252afc0",
     "regions": {
      "3e7c24da-094c-46b3-aee5-8de527dd5b6e": {
       "attrs": {
        "height": 0.8,
        "width": 0.8,
        "x": 0.1,
        "y": 0.1
       },
       "content": {
        "cell": "3610e49c-e26c-45cb-a556-251d9cb7eeab",
        "part": "whole"
       },
       "id": "3e7c24da-094c-46b3-aee5-8de527dd5b6e"
      }
     }
    },
    "88ca42fc-d3ad-457a-901e-303242f86ed8": {
     "id": "88ca42fc-d3ad-457a-901e-303242f86ed8",
     "prev": "9e74f720-47fe-437d-a42e-dfa0e0b8e907",
     "regions": {
      "fcefbf1e-f640-4730-add7-76357837d10c": {
       "attrs": {
        "height": 0.8,
        "width": 0.8,
        "x": 0.1,
        "y": 0.1
       },
       "content": {
        "cell": "b940060a-4d31-441e-a871-8a60282b983e",
        "part": "whole"
       },
       "id": "fcefbf1e-f640-4730-add7-76357837d10c"
      }
     }
    },
    "8a4b891c-3373-4b0b-9755-b8986be4d830": {
     "id": "8a4b891c-3373-4b0b-9755-b8986be4d830",
     "prev": "998b3da5-93d6-480e-a9a2-be47fef00f28",
     "regions": {
      "7cb4ac2f-050f-48a6-81b8-8b2db885e68b": {
       "attrs": {
        "height": 0.8,
        "width": 0.8,
        "x": 0.1,
        "y": 0.1
       },
       "content": {
        "cell": "fcbbd348-4107-4535-a1e7-6a617e2813b9",
        "part": "whole"
       },
       "id": "7cb4ac2f-050f-48a6-81b8-8b2db885e68b"
      }
     }
    },
    "9278618b-cf18-4fdf-ad70-ce4c2bb08f2e": {
     "id": "9278618b-cf18-4fdf-ad70-ce4c2bb08f2e",
     "prev": "be36e313-14f6-42ff-93e9-c09f9b38d37a",
     "regions": {
      "a8c14eb6-a8a7-4abb-9106-41234b584839": {
       "attrs": {
        "height": 0.8,
        "width": 0.8,
        "x": 0.1,
        "y": 0.1
       },
       "content": {
        "cell": "b8527799-e2b6-4128-a679-537e2a0948d6",
        "part": "whole"
       },
       "id": "a8c14eb6-a8a7-4abb-9106-41234b584839"
      }
     }
    },
    "928a48f4-3b84-48c5-9939-f4d526953e42": {
     "id": "928a48f4-3b84-48c5-9939-f4d526953e42",
     "prev": "9710b969-2c43-4064-b18d-067c772b8035",
     "regions": {
      "c33601b7-94cb-40f0-88fe-8731f0e63285": {
       "attrs": {
        "height": 0.8,
        "width": 0.8,
        "x": 0.1,
        "y": 0.1
       },
       "content": {
        "cell": "d13dac6a-29a0-42ca-bd15-2ef5aef8671b",
        "part": "whole"
       },
       "id": "c33601b7-94cb-40f0-88fe-8731f0e63285"
      }
     }
    },
    "9306254f-461b-4180-ab88-bb660c397ffe": {
     "id": "9306254f-461b-4180-ab88-bb660c397ffe",
     "prev": "c1212e5e-cf14-47dd-bdda-457c3f165664",
     "regions": {
      "14a80697-91a2-4199-b552-e9bf921c0b8a": {
       "attrs": {
        "height": 0.8,
        "width": 0.8,
        "x": 0.1,
        "y": 0.1
       },
       "content": {
        "cell": "f40c324d-b61d-49c3-a3a3-6da505cb118c",
        "part": "whole"
       },
       "id": "14a80697-91a2-4199-b552-e9bf921c0b8a"
      }
     }
    },
    "9710b969-2c43-4064-b18d-067c772b8035": {
     "id": "9710b969-2c43-4064-b18d-067c772b8035",
     "prev": "9278618b-cf18-4fdf-ad70-ce4c2bb08f2e",
     "regions": {
      "f32e6561-3676-43a8-b0d3-ee32ef1b22eb": {
       "attrs": {
        "height": 0.8,
        "width": 0.8,
        "x": 0.1,
        "y": 0.1
       },
       "content": {
        "cell": "4b0b751c-d04b-47a7-a1e3-6c551d39a78c",
        "part": "whole"
       },
       "id": "f32e6561-3676-43a8-b0d3-ee32ef1b22eb"
      }
     }
    },
    "998b3da5-93d6-480e-a9a2-be47fef00f28": {
     "id": "998b3da5-93d6-480e-a9a2-be47fef00f28",
     "prev": "34041e7d-d25e-4b65-97a4-6800e7b6d226",
     "regions": {
      "18ee4b2c-3a7c-4cbe-805a-e0c5ac10450d": {
       "attrs": {
        "height": 0.8,
        "width": 0.8,
        "x": 0.1,
        "y": 0.1
       },
       "content": {
        "cell": "f2e3d8a0-df40-4ced-a68b-84c1213eab1a",
        "part": "whole"
       },
       "id": "18ee4b2c-3a7c-4cbe-805a-e0c5ac10450d"
      }
     }
    },
    "9e74f720-47fe-437d-a42e-dfa0e0b8e907": {
     "id": "9e74f720-47fe-437d-a42e-dfa0e0b8e907",
     "prev": "53c202a5-3edc-4cb3-aaa7-079fd0da0fbf",
     "regions": {
      "ab9fded5-8ee9-4a72-962e-76b19cc40bea": {
       "attrs": {
        "height": 0.8,
        "width": 0.8,
        "x": 0.1,
        "y": 0.1
       },
       "content": {
        "cell": "078b0a68-d450-4005-98c9-5f7a0f460006",
        "part": "whole"
       },
       "id": "ab9fded5-8ee9-4a72-962e-76b19cc40bea"
      }
     }
    },
    "a75b90b6-82cf-42f0-8db5-7d8761329611": {
     "id": "a75b90b6-82cf-42f0-8db5-7d8761329611",
     "prev": "1e3a1e35-23c1-44d7-a7eb-55ac83de768f",
     "regions": {
      "d64e3b64-d2e8-4aa2-a894-d916e38fe48d": {
       "attrs": {
        "height": 0.8,
        "width": 0.8,
        "x": 0.1,
        "y": 0.1
       },
       "content": {
        "cell": "2f8de07b-a959-4a21-9699-9bfa24fd8778",
        "part": "whole"
       },
       "id": "d64e3b64-d2e8-4aa2-a894-d916e38fe48d"
      }
     }
    },
    "ae1fac45-be92-4d7e-ad9b-e1da118d53a8": {
     "id": "ae1fac45-be92-4d7e-ad9b-e1da118d53a8",
     "prev": "efd4d3db-d1c2-4554-953c-1aa7c4eadde9",
     "regions": {
      "bd210f59-2bb0-4b55-949f-21c9f3bf0091": {
       "attrs": {
        "height": 0.8,
        "width": 0.8,
        "x": 0.1,
        "y": 0.1
       },
       "content": {
        "cell": "9a48502f-0549-4562-9914-2f628ad2c004",
        "part": "whole"
       },
       "id": "bd210f59-2bb0-4b55-949f-21c9f3bf0091"
      }
     }
    },
    "b9e9cdfa-f296-4143-9e92-5b36cfbdebad": {
     "id": "b9e9cdfa-f296-4143-9e92-5b36cfbdebad",
     "prev": "d1baa296-51bb-4c61-ace7-7f8719f0dfe5",
     "regions": {
      "e45e739b-f8a4-404c-a195-dfc92436fbc5": {
       "attrs": {
        "height": 0.8,
        "width": 0.8,
        "x": 0.1,
        "y": 0.1
       },
       "content": {
        "cell": "c83d972e-abb8-46a5-a28c-a4986997f7c8",
        "part": "whole"
       },
       "id": "e45e739b-f8a4-404c-a195-dfc92436fbc5"
      }
     }
    },
    "be36e313-14f6-42ff-93e9-c09f9b38d37a": {
     "id": "be36e313-14f6-42ff-93e9-c09f9b38d37a",
     "prev": "88ca42fc-d3ad-457a-901e-303242f86ed8",
     "regions": {
      "d4dea945-7dce-493a-b169-3950efaaf2cc": {
       "attrs": {
        "height": 0.8,
        "width": 0.8,
        "x": 0.1,
        "y": 0.1
       },
       "content": {
        "cell": "65ba3d76-66c7-4112-b2cb-c7b285f34d00",
        "part": "whole"
       },
       "id": "d4dea945-7dce-493a-b169-3950efaaf2cc"
      }
     }
    },
    "c1212e5e-cf14-47dd-bdda-457c3f165664": {
     "id": "c1212e5e-cf14-47dd-bdda-457c3f165664",
     "prev": "ae1fac45-be92-4d7e-ad9b-e1da118d53a8",
     "regions": {
      "551a4076-3ee5-4750-9e61-772305af7121": {
       "attrs": {
        "height": 0.8,
        "width": 0.8,
        "x": 0.1,
        "y": 0.1
       },
       "content": {
        "cell": "6b19f1a4-f946-4f41-9906-7a690dfbdea4",
        "part": "whole"
       },
       "id": "551a4076-3ee5-4750-9e61-772305af7121"
      }
     }
    },
    "c1d59a5c-2cef-4728-b096-73c8c50b5ec4": {
     "id": "c1d59a5c-2cef-4728-b096-73c8c50b5ec4",
     "prev": "100876a9-3a6b-45e7-af40-c60618e7e18d",
     "regions": {
      "2718827b-732f-4007-aeb7-481f245a8d39": {
       "attrs": {
        "height": 0.8,
        "width": 0.8,
        "x": 0.1,
        "y": 0.1
       },
       "content": {
        "cell": "b81c879e-78e7-4291-a555-5fc33f44ceee",
        "part": "whole"
       },
       "id": "2718827b-732f-4007-aeb7-481f245a8d39"
      }
     }
    },
    "ccd68f5e-3f49-4fcb-8aa1-4566b8310ccb": {
     "id": "ccd68f5e-3f49-4fcb-8aa1-4566b8310ccb",
     "prev": "61b59a12-2a0b-4e97-a619-c088a3e3ec88",
     "regions": {
      "6ad86c6a-3dbf-4a76-becf-819188e728cc": {
       "attrs": {
        "height": 0.8,
        "width": 0.8,
        "x": 0.1,
        "y": 0.1
       },
       "content": {
        "cell": "e8dad3a7-cce6-4a6e-bea8-f0fc26657c52",
        "part": "whole"
       },
       "id": "6ad86c6a-3dbf-4a76-becf-819188e728cc"
      }
     }
    },
    "d1baa296-51bb-4c61-ace7-7f8719f0dfe5": {
     "id": "d1baa296-51bb-4c61-ace7-7f8719f0dfe5",
     "prev": null,
     "regions": {
      "d2e05286-152e-4388-819e-f9a821519ea2": {
       "attrs": {
        "height": 0.8,
        "width": 0.8,
        "x": 0.1,
        "y": 0.1
       },
       "content": {
        "cell": "e5d0087a-241f-4e85-82b8-4563a1e33c2e",
        "part": "whole"
       },
       "id": "d2e05286-152e-4388-819e-f9a821519ea2"
      }
     }
    },
    "d991c8a6-5183-48a4-a2eb-bab99ecb4b53": {
     "id": "d991c8a6-5183-48a4-a2eb-bab99ecb4b53",
     "prev": "e2a0082f-6bea-4b7c-ad65-d4e3315c3e9b",
     "regions": {
      "c445be8a-8955-4691-9092-68a7bbd33668": {
       "attrs": {
        "height": 0.8,
        "width": 0.8,
        "x": 0.1,
        "y": 0.1
       },
       "content": {
        "cell": "c52cf71b-247c-4533-9240-e48c4d3df4ae",
        "part": "whole"
       },
       "id": "c445be8a-8955-4691-9092-68a7bbd33668"
      }
     }
    },
    "da9862cd-5660-4258-a0fb-bd02817ee5ed": {
     "id": "da9862cd-5660-4258-a0fb-bd02817ee5ed",
     "prev": "8a4b891c-3373-4b0b-9755-b8986be4d830",
     "regions": {
      "1f55e476-ac4f-41f0-8d8a-1b4dde70ca03": {
       "attrs": {
        "height": 0.8,
        "width": 0.8,
        "x": 0.1,
        "y": 0.1
       },
       "content": {
        "cell": "303c3bf2-fd40-409e-b69b-4b7d7da1e99c",
        "part": "whole"
       },
       "id": "1f55e476-ac4f-41f0-8d8a-1b4dde70ca03"
      }
     }
    },
    "e2a0082f-6bea-4b7c-ad65-d4e3315c3e9b": {
     "id": "e2a0082f-6bea-4b7c-ad65-d4e3315c3e9b",
     "prev": "1036756f-1a50-4e03-9b9a-42487956d8da",
     "regions": {
      "6bb5b16c-8d41-4ddd-bd11-4275e2b9e496": {
       "attrs": {
        "height": 0.8,
        "width": 0.8,
        "x": 0.1,
        "y": 0.1
       },
       "content": {
        "cell": "a9ef1e64-4849-47ba-83e9-2c3be720f388",
        "part": "whole"
       },
       "id": "6bb5b16c-8d41-4ddd-bd11-4275e2b9e496"
      }
     }
    },
    "efd4d3db-d1c2-4554-953c-1aa7c4eadde9": {
     "id": "efd4d3db-d1c2-4554-953c-1aa7c4eadde9",
     "prev": "da9862cd-5660-4258-a0fb-bd02817ee5ed",
     "regions": {
      "03003919-2ebe-422a-9aea-41ef2b6c9fef": {
       "attrs": {
        "height": 0.8,
        "width": 0.8,
        "x": 0.1,
        "y": 0.1
       },
       "content": {
        "cell": "01aa7476-fe22-4b19-954c-f0bb326a5226",
        "part": "whole"
       },
       "id": "03003919-2ebe-422a-9aea-41ef2b6c9fef"
      }
     }
    },
    "fa1428b7-f4ac-4595-a8f7-500b9a3c3384": {
     "id": "fa1428b7-f4ac-4595-a8f7-500b9a3c3384",
     "prev": "d991c8a6-5183-48a4-a2eb-bab99ecb4b53",
     "regions": {
      "aa12d62e-d33f-4b26-895d-ae76b9181618": {
       "attrs": {
        "height": 0.8,
        "width": 0.8,
        "x": 0.1,
        "y": 0.1
       },
       "content": {
        "cell": "58373aa7-4cdb-44b0-ad0d-f47b056fb96a",
        "part": "whole"
       },
       "id": "aa12d62e-d33f-4b26-895d-ae76b9181618"
      }
     }
    },
    "fb165fd1-c055-477d-aea3-a3dd022cb723": {
     "id": "fb165fd1-c055-477d-aea3-a3dd022cb723",
     "prev": "a75b90b6-82cf-42f0-8db5-7d8761329611",
     "regions": {
      "545cb964-7298-46c0-986a-c2afa778a827": {
       "attrs": {
        "height": 0.8,
        "width": 0.8,
        "x": 0.1,
        "y": 0.1
       },
       "content": {
        "cell": "35d8ece6-a376-4768-8abc-e4d594b52123",
        "part": "whole"
       },
       "id": "545cb964-7298-46c0-986a-c2afa778a827"
      }
     }
    }
   },
   "themes": {}
  }
 },
 "nbformat": 4,
 "nbformat_minor": 2
}
